{
 "cells": [
  {
   "cell_type": "markdown",
   "metadata": {},
   "source": [
    "# xFormers\n",
    "\n",
    "if want to accelerate the project, follow the website to find the right version of xFromers\n",
    "https://github.com/facebookresearch/xformers#installing-xformers)"
   ]
  },
  {
   "cell_type": "markdown",
   "metadata": {},
   "source": [
    "# tpdm 用于显示进度条，通过迭代的次数进行显示\n",
    "tqdm is used to display the progress bar through the number of iterations\n"
   ]
  },
  {
   "cell_type": "markdown",
   "metadata": {},
   "source": [
    "# open_clip 是一个开源项目，\n",
    "\n",
    "它是基于 Python 的，用于实现 CLIP（Contrastive Language-Image Pre-training）模型的库。CLIP 模型是由斯坦福大学的研究者提出的一种多模态学习方法，它可以理解图像内容与自然语言描述之间的关联。\n",
    "\n",
    "CLIP 模型通过在大量互联网图像和文本对上进行预训练，学习将图像内容与文本描述相对应。这种模型的特点是，它不需要标注的数据集，而是使用图像和它们的描述（通常是从互联网上抓取的）进行训练。这使得 CLIP 能够在多种视觉任务上表现出很好的泛化能力，例如图像分类、图像-文本检索等。"
   ]
  },
  {
   "cell_type": "markdown",
   "metadata": {},
   "source": [
    "# model文件夹下的内容是关于神经网络基础概念的算法实现，暂时不要深究\n",
    "The contents in the model folder are the algorithm implementations about the basic concepts of neural networks, which should not be deeply studied for the time being"
   ]
  }
 ],
 "metadata": {
  "kernelspec": {
   "display_name": ".venv",
   "language": "python",
   "name": "python3"
  },
  "language_info": {
   "codemirror_mode": {
    "name": "ipython",
    "version": 3
   },
   "file_extension": ".py",
   "mimetype": "text/x-python",
   "name": "python",
   "nbconvert_exporter": "python",
   "pygments_lexer": "ipython3",
   "version": "3.12.2"
  }
 },
 "nbformat": 4,
 "nbformat_minor": 2
}
